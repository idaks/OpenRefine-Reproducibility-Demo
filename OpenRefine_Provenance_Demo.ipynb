{
 "cells": [
  {
   "cell_type": "markdown",
   "metadata": {},
   "source": [
    "## Start OpenRefine service on MyBinder"
   ]
  },
  {
   "cell_type": "code",
   "execution_count": 1,
   "metadata": {},
   "outputs": [],
   "source": [
    "import subprocess\n",
    "import time\n",
    "subprocess.call(\"./start_refine.sh\",shell=True)\n",
    "\n",
    "#wait for 10 seconds\n",
    "time.sleep(10)"
   ]
  },
  {
   "cell_type": "markdown",
   "metadata": {},
   "source": [
    "## OpenRefine provenance script called using orprov-cli"
   ]
  },
  {
   "cell_type": "code",
   "execution_count": 2,
   "metadata": {},
   "outputs": [
    {
     "name": "stdout",
     "output_type": "stream",
     "text": [
      "usage: orcli.py <command> [<args>]\r\n",
      "\r\n",
      "        orcli commands are:        \r\n",
      "           extract          Extract enhanced recipe from OpenRefine project file                      \r\n",
      "           list             List Projects from the openrefine server\r\n",
      "           open_csv         Create a New OpenRefine Project based on CSV file \r\n",
      "           run              Run openrefine extracted history on the OpenRefine server\r\n",
      "           save_csv         Save oepnrefine file as a csv\r\n",
      "           compare          Compare two OpenRefine files output\r\n",
      "           compare_recipes  Compare two OpenRefine extracted history                      \r\n",
      "        \r\n",
      "\r\n",
      "OpenRefine command line interface Demo\r\n",
      "\r\n",
      "positional arguments:\r\n",
      "  command     orcli commands\r\n",
      "\r\n",
      "optional arguments:\r\n",
      "  -h, --help  show this help message and exit\r\n"
     ]
    }
   ],
   "source": [
    "!orprov-cli --help"
   ]
  },
  {
   "cell_type": "markdown",
   "metadata": {},
   "source": [
    "## Download OpenRefine Provenance Demo Resources"
   ]
  },
  {
   "cell_type": "code",
   "execution_count": 6,
   "metadata": {},
   "outputs": [
    {
     "name": "stdout",
     "output_type": "stream",
     "text": [
      "Cloning into 'OR-Prov-Reproducibility'...\n",
      "remote: Enumerating objects: 106, done.\u001b[K\n",
      "remote: Counting objects: 100% (106/106), done.\u001b[K\n",
      "remote: Compressing objects: 100% (96/96), done.\u001b[K\n",
      "remote: Total 691 (delta 20), reused 81 (delta 6), pack-reused 585\u001b[K\n",
      "Receiving objects: 100% (691/691), 29.31 MiB | 14.16 MiB/s, done.\n",
      "Resolving deltas: 100% (189/189), done.\n"
     ]
    }
   ],
   "source": [
    "!git clone https://github.com/LanLi2017/OR-Prov-Reproducibility"
   ]
  },
  {
   "cell_type": "markdown",
   "metadata": {},
   "source": [
    "## Extract OpenRefine complete recipe from the OpenRefine Project File"
   ]
  },
  {
   "cell_type": "code",
   "execution_count": 7,
   "metadata": {},
   "outputs": [
    {
     "name": "stdout",
     "output_type": "stream",
     "text": [
      "create a folder\n",
      "{u'contributors': u'',\n",
      " u'created': u'2019-04-20T22:38:19Z',\n",
      " u'creator': u'',\n",
      " u'customMetadata': {},\n",
      " u'description': u'',\n",
      " u'encoding': u'UTF-8',\n",
      " u'encodingConfidence': 0,\n",
      " u'homepage': u'',\n",
      " u'image': u'',\n",
      " u'importOptionMetadata': [{u'fileSource': u'Dataset/Menu.csv',\n",
      "                            u'guessCellValueTypes': False,\n",
      "                            u'headerLines': 1,\n",
      "                            u'ignoreLines': -1,\n",
      "                            u'includeFileSources': False,\n",
      "                            u'limit': -1,\n",
      "                            u'linesPerRow': 1,\n",
      "                            u'processQuotes': True,\n",
      "                            u'projectName': u'Tutorial_OR',\n",
      "                            u'separator': u',',\n",
      "                            u'skipDataLines': 0,\n",
      "                            u'storeBlankCellsAsNulls': True,\n",
      "                            u'storeBlankRows': True,\n",
      "                            u'storeEmptyStrings': True,\n",
      "                            u'trimStrings': False}],\n",
      " u'license': u'',\n",
      " u'modified': u'2019-04-21T18:49:14Z',\n",
      " u'name': u'Tutorial_OR',\n",
      " u'password': u'',\n",
      " u'preferences': {u'entries': {u'scripting.expressions': {u'class': u'com.google.refine.preference.TopList',\n",
      "                                                          u'list': [],\n",
      "                                                          u'top': 100},\n",
      "                               u'scripting.starred-expressions': {u'class': u'com.google.refine.preference.TopList',\n",
      "                                                                  u'list': [],\n",
      "                                                                  u'top': 2147483647}}},\n",
      " u'rowCount': 17545,\n",
      " u'subject': u'',\n",
      " u'tags': [],\n",
      " u'title': u'',\n",
      " u'version': u''}\n",
      "Complete Operation History saved as : or-prov-test.json\n"
     ]
    }
   ],
   "source": [
    "!orprov-cli extract -i OR-Prov-Reproducibility/test_files/Tutorial_OR.openrefine.tar.gz -o or-prov-test.json"
   ]
  },
  {
   "cell_type": "markdown",
   "metadata": {},
   "source": [
    "## Show the complete recipe"
   ]
  },
  {
   "cell_type": "code",
   "execution_count": 8,
   "metadata": {},
   "outputs": [
    {
     "name": "stdout",
     "output_type": "stream",
     "text": [
      "[\r\n",
      "  {\r\n",
      "    \"op\": \"core/text-transform\", \r\n",
      "    \"description\": \"Text transform on cells in column sponsor using expression value.toLowercase()\", \r\n",
      "    \"engineConfig\": {\r\n",
      "      \"facets\": [], \r\n",
      "      \"mode\": \"row-based\"\r\n",
      "    }, \r\n",
      "    \"columnName\": \"sponsor\", \r\n",
      "    \"expression\": \"value.toLowercase()\", \r\n",
      "    \"onError\": \"set-to-blank\", \r\n",
      "    \"repeat\": false, \r\n",
      "    \"repeatCount\": 10\r\n",
      "  }, \r\n",
      "  {\r\n",
      "    \"op\": \"core/mass-edit\", \r\n",
      "    \"description\": \"Mass edit cells in column event\", \r\n",
      "    \"engineConfig\": {\r\n",
      "      \"facets\": [], \r\n",
      "      \"mode\": \"row-based\"\r\n",
      "    }, \r\n",
      "    \"columnName\": \"event\", \r\n",
      "    \"expression\": \"value\", \r\n",
      "    \"edits\": [\r\n",
      "      {\r\n",
      "        \"fromBlank\": false, \r\n",
      "        \"fromError\": false, \r\n",
      "        \"from\": [\r\n",
      "          \"FOURTH ANNUAL DINNER\", \r\n",
      "          \"Fourth Annual Dinner\"\r\n",
      "        ], \r\n",
      "        \"to\": \"FOURTH ANNUAL DINNER\"\r\n",
      "      }\r\n",
      "    ]\r\n",
      "  }, \r\n",
      "  {\r\n",
      "    \"row\": \"3\", \r\n",
      "    \"cell\": \"3\", \r\n",
      "    \"old\": \"{\\\"v\\\":\\\"LUNCH;\\\"}\", \r\n",
      "    \"new\": \"{\\\"v\\\":\\\"tutorial_menu\\\"}\", \r\n",
      "    \"op\": \"custom/single-edit\"\r\n",
      "  }, \r\n",
      "  {\r\n",
      "    \"op\": \"core/column-split\", \r\n",
      "    \"description\": \"Split column sponsor by separator\", \r\n",
      "    \"engineConfig\": {\r\n",
      "      \"facets\": [], \r\n",
      "      \"mode\": \"row-based\"\r\n",
      "    }, \r\n",
      "    \"columnName\": \"sponsor\", \r\n",
      "    \"guessCellType\": true, \r\n",
      "    \"removeOriginalColumn\": true, \r\n",
      "    \"mode\": \"separator\", \r\n",
      "    \"separator\": \",\", \r\n",
      "    \"regex\": false, \r\n",
      "    \"maxColumns\": 0\r\n",
      "  }, \r\n",
      "  {\r\n",
      "    \"op\": \"core/column-addition\", \r\n",
      "    \"description\": \"Create column news at index 8 based on column event using expression cells.date.value + cells.event.value\", \r\n",
      "    \"engineConfig\": {\r\n",
      "      \"facets\": [], \r\n",
      "      \"mode\": \"row-based\"\r\n",
      "    }, \r\n",
      "    \"newColumnName\": \"news\", \r\n",
      "    \"columnInsertIndex\": 8, \r\n",
      "    \"baseColumnName\": \"event\", \r\n",
      "    \"expression\": \"cells.date.value + cells.event.value\", \r\n",
      "    \"onError\": \"set-to-blank\"\r\n",
      "  }, \r\n",
      "  {\r\n",
      "    \"op\": \"core/column-move\", \r\n",
      "    \"description\": \"Move column date to position 10\", \r\n",
      "    \"columnName\": \"date\", \r\n",
      "    \"index\": 10\r\n",
      "  }, \r\n",
      "  {\r\n",
      "    \"op\": \"core/column-rename\", \r\n",
      "    \"description\": \"Rename column location to position\", \r\n",
      "    \"oldColumnName\": \"location\", \r\n",
      "    \"newColumnName\": \"position\"\r\n",
      "  }, \r\n",
      "  {\r\n",
      "    \"row\": \"1\", \r\n",
      "    \"newFlagged\": \"true\", \r\n",
      "    \"oldFlagged\": \"false\", \r\n",
      "    \"op\": \"custom/flag\"\r\n",
      "  }, \r\n",
      "  {\r\n",
      "    \"row\": \"1\", \r\n",
      "    \"newStarred\": \"true\", \r\n",
      "    \"oldStarred\": \"false\", \r\n",
      "    \"op\": \"custom/star\"\r\n",
      "  }, \r\n",
      "  {\r\n",
      "    \"op\": \"core/blank-down\", \r\n",
      "    \"description\": \"Blank down cells in column event\", \r\n",
      "    \"engineConfig\": {\r\n",
      "      \"facets\": [], \r\n",
      "      \"mode\": \"row-based\"\r\n",
      "    }, \r\n",
      "    \"columnName\": \"event\"\r\n",
      "  }, \r\n",
      "  {\r\n",
      "    \"op\": \"core/fill-down\", \r\n",
      "    \"description\": \"Fill down cells in column location_type\", \r\n",
      "    \"engineConfig\": {\r\n",
      "      \"facets\": [], \r\n",
      "      \"mode\": \"row-based\"\r\n",
      "    }, \r\n",
      "    \"columnName\": \"location_type\"\r\n",
      "  }, \r\n",
      "  {\r\n",
      "    \"row\": \"1\", \r\n",
      "    \"cell\": \"3\", \r\n",
      "    \"old\": \"{\\\"v\\\":\\\"[DINNER]\\\"}\", \r\n",
      "    \"new\": \"{\\\"v\\\":\\\"Abendessen\\\"}\", \r\n",
      "    \"op\": \"custom/single-edit\"\r\n",
      "  }\r\n",
      "]"
     ]
    }
   ],
   "source": [
    "!cat or-prov-test.json"
   ]
  },
  {
   "cell_type": "markdown",
   "metadata": {},
   "source": [
    "## Show differences between Complete recipe and UI recipe"
   ]
  },
  {
   "cell_type": "code",
   "execution_count": 9,
   "metadata": {},
   "outputs": [
    {
     "name": "stdout",
     "output_type": "stream",
     "text": [
      "Traceback (most recent call last):\r\n",
      "  File \"/opt/conda/bin/orprov-cli\", line 10, in <module>\r\n",
      "    sys.exit(run())\r\n",
      "  File \"/opt/conda/envs/ipykernel_py2/lib/python2.7/site-packages/orprov/__main__.py\", line 4, in run\r\n",
      "    ORCLI()\r\n",
      "  File \"/opt/conda/envs/ipykernel_py2/lib/python2.7/site-packages/orprov/ORCLI.py\", line 40, in __init__\r\n",
      "    getattr(self, args.command)()\r\n",
      "  File \"/opt/conda/envs/ipykernel_py2/lib/python2.7/site-packages/orprov/ORCLI.py\", line 182, in compare_recipes\r\n",
      "    diff = jsondiff.diff(json1,json2)\r\n",
      "  File \"/opt/conda/envs/ipykernel_py2/lib/python2.7/site-packages/jsondiff/__init__.py\", line 259, in diff\r\n",
      "    d, s = obj_diff(a, b)\r\n",
      "  File \"/opt/conda/envs/ipykernel_py2/lib/python2.7/site-packages/jsondiff/__init__.py\", line 169, in obj_diff\r\n",
      "    return list_diff(a, b)\r\n",
      "  File \"/opt/conda/envs/ipykernel_py2/lib/python2.7/site-packages/jsondiff/__init__.py\", line 52, in list_diff\r\n",
      "    _, s = obj_diff(X[i-1], Y[j-1])\r\n",
      "  File \"/opt/conda/envs/ipykernel_py2/lib/python2.7/site-packages/jsondiff/__init__.py\", line 167, in obj_diff\r\n",
      "    return dict_diff(a, b)\r\n",
      "  File \"/opt/conda/envs/ipykernel_py2/lib/python2.7/site-packages/jsondiff/__init__.py\", line 139, in dict_diff\r\n",
      "    d, s = obj_diff(v, w)\r\n",
      "  File \"/opt/conda/envs/ipykernel_py2/lib/python2.7/site-packages/jsondiff/__init__.py\", line 167, in obj_diff\r\n",
      "    return dict_diff(a, b)\r\n",
      "  File \"/opt/conda/envs/ipykernel_py2/lib/python2.7/site-packages/jsondiff/__init__.py\", line 139, in dict_diff\r\n",
      "    d, s = obj_diff(v, w)\r\n",
      "  File \"/opt/conda/envs/ipykernel_py2/lib/python2.7/site-packages/jsondiff/__init__.py\", line 169, in obj_diff\r\n",
      "    return list_diff(a, b)\r\n",
      "  File \"/opt/conda/envs/ipykernel_py2/lib/python2.7/site-packages/jsondiff/__init__.py\", line 71, in list_diff\r\n",
      "    s = tot_s / (len(X) + len(inserted))\r\n",
      "ZeroDivisionError: float division by zero\r\n"
     ]
    }
   ],
   "source": [
    "!orprov-cli compare_recipes or-prov-test.json OR-Prov-Reproducibility/test_files/Tutorial_OR_ui_ops.json"
   ]
  },
  {
   "cell_type": "markdown",
   "metadata": {},
   "source": [
    "## Create new project based on raw files"
   ]
  },
  {
   "cell_type": "code",
   "execution_count": 10,
   "metadata": {},
   "outputs": [
    {
     "name": "stdout",
     "output_type": "stream",
     "text": [
      "File OR-Prov-Reproducibility/test_files/Tutorial_OR.csv imported as project: prov_demo_2a\r\n"
     ]
    }
   ],
   "source": [
    "!orprov-cli open_csv -i OR-Prov-Reproducibility/test_files/Tutorial_OR.csv -p prov_demo_2a"
   ]
  },
  {
   "cell_type": "markdown",
   "metadata": {},
   "source": [
    "## List OpenRefine Projects"
   ]
  },
  {
   "cell_type": "code",
   "execution_count": 11,
   "metadata": {},
   "outputs": [
    {
     "name": "stdout",
     "output_type": "stream",
     "text": [
      "id\t\tname (created_time)\r\n",
      "2323727598636\tprov_demo_2a (2019-05-08T18:26:30Z)\r\n",
      "1689525447111\tprov_demo_2a (2019-05-08T18:41:02Z)\r\n"
     ]
    }
   ],
   "source": [
    "!orprov-cli list"
   ]
  },
  {
   "cell_type": "markdown",
   "metadata": {},
   "source": [
    "## Run Complete Recipe on the OpenRefine Project"
   ]
  },
  {
   "cell_type": "code",
   "execution_count": 12,
   "metadata": {},
   "outputs": [
    {
     "name": "stdout",
     "output_type": "stream",
     "text": [
      "2323727598636\tprov_demo_2a (2019-05-08T18:26:30Z)\r\n",
      "1689525447111\tprov_demo_2a (2019-05-08T18:41:02Z)\r\n",
      "Traceback (most recent call last):\r\n",
      "  File \"/opt/conda/envs/ipykernel_py2/lib/python2.7/site-packages/orprov/ORCLI.py\", line 136, in run\r\n",
      "    refine_project = select_project_byname(pname, refine_server)\r\n",
      "  File \"/opt/conda/envs/ipykernel_py2/lib/python2.7/site-packages/orprov/run_history.py\", line 146, in select_project_byname\r\n",
      "    raise Exception(\"Found more than one project for: \"+project_name+\" use pid to select the project\")\r\n",
      "Exception: Found more than one project for: prov_demo_2a use pid to select the project\r\n"
     ]
    }
   ],
   "source": [
    "!orprov-cli run -i or-prov-test.json -pname prov_demo_2a"
   ]
  },
  {
   "cell_type": "markdown",
   "metadata": {},
   "source": [
    "## Extract cleaned csv files"
   ]
  },
  {
   "cell_type": "code",
   "execution_count": 19,
   "metadata": {},
   "outputs": [
    {
     "name": "stdout",
     "output_type": "stream",
     "text": [
      "project: prov_demo_2a saved as prov_demo_2b.csv\r\n"
     ]
    }
   ],
   "source": [
    "!orprov-cli save_csv -pname prov_demo_2a -o prov_demo_2b.csv"
   ]
  },
  {
   "cell_type": "markdown",
   "metadata": {},
   "source": [
    "## Compare the complete CSV project file with Demo 0 file"
   ]
  },
  {
   "cell_type": "code",
   "execution_count": 21,
   "metadata": {},
   "outputs": [
    {
     "name": "stdout",
     "output_type": "stream",
     "text": [
      "--- \r\n",
      "\r\n",
      "+++ \r\n",
      "\r\n",
      "@@ -1,8 +1,8 @@\r\n",
      "\r\n",
      " id,name,sponsor 1,sponsor 2,sponsor 3,sponsor 4,sponsor 5,event,news,venue,date,place,physical_description,occasion,notes,call_number,keywords,language,position,location_type,currency,currency_symbol,status,page_count,dish_count\r\n",
      "\r\n",
      " 12463,,hotel eastman,,,,,BREAKFAST,1900-04-15BREAKFAST,COMMERCIAL,1900-04-15,\"HOT SPRINGS, AR\",CARD; 4.75X7.5;,EASTER;,,1900-2822,,,Hotel Eastman,,,,complete,2,67\r\n",
      "\r\n",
      "-12464,,republican house,,,,,Abendessen,1900-04-15[DINNER],COMMERCIAL,1900-04-15,\"MILWAUKEE, [WI];\",CARD; ILLUS; COL; 7.0X9.0;,EASTER;,\"WEDGEWOOD BLUE CARD; WHITE EMBOSSED GREEK KEY BORDER; \"\"EASTER SUNDAY\"\" EMBOSSED IN WHITE; VIOLET COLORED SPRAY OF FLOWERS IN UPPER LEFT CORNER;\",1900-2825,,,Republican House,,,,under review,2,34\r\n",
      "\r\n",
      "+12464,,republican house,,,,,\"{\"\"v\"\":\"\"Abendessen\"\"}\",1900-04-15[DINNER],COMMERCIAL,1900-04-15,\"MILWAUKEE, [WI];\",CARD; ILLUS; COL; 7.0X9.0;,EASTER;,\"WEDGEWOOD BLUE CARD; WHITE EMBOSSED GREEK KEY BORDER; \"\"EASTER SUNDAY\"\" EMBOSSED IN WHITE; VIOLET COLORED SPRAY OF FLOWERS IN UPPER LEFT CORNER;\",1900-2825,,,Republican House,,,,under review,2,34\r\n",
      "\r\n",
      " 12465,,norddeutscher lloyd bremen,,,,,FRUHSTUCK/BREAKFAST;,1900-04-16FRUHSTUCK/BREAKFAST;,COMMERCIAL,1900-04-16,DAMPFER KAISER WILHELM DER GROSSE;,CARD; ILLU; COL; 5.5X8.0;,,\"MENU IN GERMAN AND ENGLISH; ILLUS, STEAMSHIP AND SAILING VESSEL;\",1900-2827,,,Norddeutscher Lloyd Bremen,,,,complete,2,84\r\n",
      "\r\n",
      "-12466,,norddeutscher lloyd bremen,,,,,tutorial_menu,1900-04-16tutorial_menu,COMMERCIAL,1900-04-16,DAMPFER KAISER WILHELM DER GROSSE;,CARD; ILLU; COL; 5.5X8.0;,,\"MENU IN GERMAN AND ENGLISH; ILLUS, HARBOR SCENE WITH SAILING VESSEL;\",1900-2828,,,Norddeutscher Lloyd Bremen,,,,complete,2,63\r\n",
      "\r\n",
      "+12466,,norddeutscher lloyd bremen,,,,,\"{\"\"v\"\":\"\"tutorial_menu\"\"}\",\"1900-04-16{\"\"v\"\":\"\"tutorial_menu\"\"}\",COMMERCIAL,1900-04-16,DAMPFER KAISER WILHELM DER GROSSE;,CARD; ILLU; COL; 5.5X8.0;,,\"MENU IN GERMAN AND ENGLISH; ILLUS, HARBOR SCENE WITH SAILING VESSEL;\",1900-2828,,,Norddeutscher Lloyd Bremen,,,,complete,2,63\r\n",
      "\r\n",
      " 12467,,norddeutscher lloyd bremen,,,,,DINNER;,1900-04-16DINNER;,COMMERCIAL,1900-04-16,DAMPFER KAISER WILHELM DER GROSSE;,FOLDER; ILLU; COL; 5.5X7.5;,,\"MENU IN GERMAN AND ENGLISH; ILLUS, HARBOR SCENE WITH ROCKS AND LIGHTHOUSE; STEAMSHIP AND SAILING VESSELS; CONCERT PROGRAM; DATES:  ON GERMAN SIDE OF MENU \"\"MONTAG, DEN 16 APRIL 1900\"\"; ON ENGLISH SIDE OF MENU \"\"MONDAY, APRIL 15TH, 1900\"\";\",1900-2829,,,Norddeutscher Lloyd Bremen,,,,complete,4,33\r\n",
      "\r\n",
      " 12468,,canadian pacific railway company,,,,,[DINNER],1900-04-16[DINNER],COMMERCIAL,1900-04-16,R.M.S. EMPRESS OF CHINA,CARD; ILLUS; COL; 4.75X7.25;,,\"ILLUS, RED AND WHITE CHECKERED FLAG;\",1900-2831,,,Canadian Pacific Railway Company,,,,complete,2,37\r\n",
      "\r\n",
      " 12469,,hotel netherland,,,,,SUPPER,1900-04-16SUPPER,COMMERCIAL,1900-04-16,\"NEW YORK, [NY];\",CARD; ILLUS; COL; 6.0X8.75;,,HOTEL CREST IN BLUE; PRICED MENU;,1900-2838,,,Hotel Netherland,,Dollars,$,complete,2,144\r\n",
      "\r\n",
      "found differences between prov_demo_2b.csv and OR-Prov-Reproducibility/test_files/Tutorial_OR_clean.csv\r\n"
     ]
    }
   ],
   "source": [
    "!orprov-cli compare prov_demo_2b.csv OR-Prov-Reproducibility/test_files/Tutorial_OR_clean.csv"
   ]
  },
  {
   "cell_type": "code",
   "execution_count": null,
   "metadata": {},
   "outputs": [],
   "source": []
  }
 ],
 "metadata": {
  "anaconda-cloud": {},
  "kernelspec": {
   "display_name": "Python 2",
   "language": "python",
   "name": "python2"
  },
  "language_info": {
   "codemirror_mode": {
    "name": "ipython",
    "version": 2
   },
   "file_extension": ".py",
   "mimetype": "text/x-python",
   "name": "python",
   "nbconvert_exporter": "python",
   "pygments_lexer": "ipython2",
   "version": "2.7.15"
  }
 },
 "nbformat": 4,
 "nbformat_minor": 2
}
