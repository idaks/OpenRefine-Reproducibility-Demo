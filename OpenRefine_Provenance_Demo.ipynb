{
 "cells": [
  {
   "cell_type": "markdown",
   "metadata": {},
   "source": [
    "## Start OpenRefine service on MyBinder"
   ]
  },
  {
   "cell_type": "code",
   "execution_count": 1,
   "metadata": {},
   "outputs": [],
   "source": [
    "import subprocess\n",
    "import time\n",
    "subprocess.call(\"./start_refine.sh\",shell=True)\n",
    "\n",
    "#wait for 10 seconds\n",
    "time.sleep(10)"
   ]
  },
  {
   "cell_type": "markdown",
   "metadata": {},
   "source": [
    "## OpenRefine provenance script called using orprov-cli"
   ]
  },
  {
   "cell_type": "code",
   "execution_count": 2,
   "metadata": {},
   "outputs": [
    {
     "name": "stdout",
     "output_type": "stream",
     "text": [
      "usage: orcli.py <command> [<args>]\r\n",
      "\r\n",
      "        orcli commands are:        \r\n",
      "           extract          Extract enhanced recipe from OpenRefine project file\r\n",
      "           list             List Projects from the openrefine server\r\n",
      "           run              Run openrefine extracted history on the OpenRefine server\r\n",
      "           compare          Compare two OpenRefine files output\r\n",
      "           compare_recipes  Compare two OpenRefine extracted history           \r\n",
      "        \r\n",
      "orprov-cli: error: too few arguments\r\n"
     ]
    }
   ],
   "source": [
    "!orprov-cli"
   ]
  },
  {
   "cell_type": "markdown",
   "metadata": {},
   "source": [
    "## Download OpenRefine Provenance Demo Resources"
   ]
  },
  {
   "cell_type": "code",
   "execution_count": 3,
   "metadata": {},
   "outputs": [
    {
     "name": "stdout",
     "output_type": "stream",
     "text": [
      "Cloning into 'OR-Prov-Reproducibility'...\n",
      "remote: Enumerating objects: 106, done.\u001b[K\n",
      "remote: Counting objects: 100% (106/106), done.\u001b[K\n",
      "remote: Compressing objects: 100% (96/96), done.\u001b[K\n",
      "remote: Total 691 (delta 20), reused 81 (delta 6), pack-reused 585\u001b[K\n",
      "Receiving objects: 100% (691/691), 29.31 MiB | 18.44 MiB/s, done.\n",
      "Resolving deltas: 100% (189/189), done.\n"
     ]
    }
   ],
   "source": [
    "!git clone https://github.com/LanLi2017/OR-Prov-Reproducibility"
   ]
  },
  {
   "cell_type": "markdown",
   "metadata": {},
   "source": [
    "## Extract OpenRefine complete recipe from the OpenRefine Project File"
   ]
  },
  {
   "cell_type": "code",
   "execution_count": 7,
   "metadata": {},
   "outputs": [
    {
     "name": "stdout",
     "output_type": "stream",
     "text": [
      "create a folder\n",
      "{u'contributors': u'',\n",
      " u'created': u'2019-04-20T22:38:19Z',\n",
      " u'creator': u'',\n",
      " u'customMetadata': {},\n",
      " u'description': u'',\n",
      " u'encoding': u'UTF-8',\n",
      " u'encodingConfidence': 0,\n",
      " u'homepage': u'',\n",
      " u'image': u'',\n",
      " u'importOptionMetadata': [{u'fileSource': u'Dataset/Menu.csv',\n",
      "                            u'guessCellValueTypes': False,\n",
      "                            u'headerLines': 1,\n",
      "                            u'ignoreLines': -1,\n",
      "                            u'includeFileSources': False,\n",
      "                            u'limit': -1,\n",
      "                            u'linesPerRow': 1,\n",
      "                            u'processQuotes': True,\n",
      "                            u'projectName': u'Tutorial_OR',\n",
      "                            u'separator': u',',\n",
      "                            u'skipDataLines': 0,\n",
      "                            u'storeBlankCellsAsNulls': True,\n",
      "                            u'storeBlankRows': True,\n",
      "                            u'storeEmptyStrings': True,\n",
      "                            u'trimStrings': False}],\n",
      " u'license': u'',\n",
      " u'modified': u'2019-04-21T18:49:14Z',\n",
      " u'name': u'Tutorial_OR',\n",
      " u'password': u'',\n",
      " u'preferences': {u'entries': {u'scripting.expressions': {u'class': u'com.google.refine.preference.TopList',\n",
      "                                                          u'list': [],\n",
      "                                                          u'top': 100},\n",
      "                               u'scripting.starred-expressions': {u'class': u'com.google.refine.preference.TopList',\n",
      "                                                                  u'list': [],\n",
      "                                                                  u'top': 2147483647}}},\n",
      " u'rowCount': 17545,\n",
      " u'subject': u'',\n",
      " u'tags': [],\n",
      " u'title': u'',\n",
      " u'version': u''}\n",
      "Complete Operation History saved as : or-prov-test.json\n"
     ]
    }
   ],
   "source": [
    "!orprov-cli extract -i OR-Prov-Reproducibility/test_files/Tutorial_OR.openrefine.tar.gz -o or-prov-test.json"
   ]
  },
  {
   "cell_type": "markdown",
   "metadata": {},
   "source": [
    "## Show the complete recipe"
   ]
  },
  {
   "cell_type": "code",
   "execution_count": 8,
   "metadata": {},
   "outputs": [
    {
     "name": "stdout",
     "output_type": "stream",
     "text": [
      "[\r\n",
      "  {\r\n",
      "    \"op\": \"core/text-transform\", \r\n",
      "    \"description\": \"Text transform on cells in column sponsor using expression value.toLowercase()\", \r\n",
      "    \"engineConfig\": {\r\n",
      "      \"facets\": [], \r\n",
      "      \"mode\": \"row-based\"\r\n",
      "    }, \r\n",
      "    \"columnName\": \"sponsor\", \r\n",
      "    \"expression\": \"value.toLowercase()\", \r\n",
      "    \"onError\": \"set-to-blank\", \r\n",
      "    \"repeat\": false, \r\n",
      "    \"repeatCount\": 10\r\n",
      "  }, \r\n",
      "  {\r\n",
      "    \"op\": \"core/mass-edit\", \r\n",
      "    \"description\": \"Mass edit cells in column event\", \r\n",
      "    \"engineConfig\": {\r\n",
      "      \"facets\": [], \r\n",
      "      \"mode\": \"row-based\"\r\n",
      "    }, \r\n",
      "    \"columnName\": \"event\", \r\n",
      "    \"expression\": \"value\", \r\n",
      "    \"edits\": [\r\n",
      "      {\r\n",
      "        \"fromBlank\": false, \r\n",
      "        \"fromError\": false, \r\n",
      "        \"from\": [\r\n",
      "          \"FOURTH ANNUAL DINNER\", \r\n",
      "          \"Fourth Annual Dinner\"\r\n",
      "        ], \r\n",
      "        \"to\": \"FOURTH ANNUAL DINNER\"\r\n",
      "      }\r\n",
      "    ]\r\n",
      "  }, \r\n",
      "  {\r\n",
      "    \"row\": \"3\", \r\n",
      "    \"cell\": \"3\", \r\n",
      "    \"old\": \"{\\\"v\\\":\\\"LUNCH;\\\"}\", \r\n",
      "    \"new\": \"{\\\"v\\\":\\\"tutorial_menu\\\"}\", \r\n",
      "    \"op\": \"custom/single-edit\"\r\n",
      "  }, \r\n",
      "  {\r\n",
      "    \"op\": \"core/column-split\", \r\n",
      "    \"description\": \"Split column sponsor by separator\", \r\n",
      "    \"engineConfig\": {\r\n",
      "      \"facets\": [], \r\n",
      "      \"mode\": \"row-based\"\r\n",
      "    }, \r\n",
      "    \"columnName\": \"sponsor\", \r\n",
      "    \"guessCellType\": true, \r\n",
      "    \"removeOriginalColumn\": true, \r\n",
      "    \"mode\": \"separator\", \r\n",
      "    \"separator\": \",\", \r\n",
      "    \"regex\": false, \r\n",
      "    \"maxColumns\": 0\r\n",
      "  }, \r\n",
      "  {\r\n",
      "    \"op\": \"core/column-addition\", \r\n",
      "    \"description\": \"Create column news at index 8 based on column event using expression cells.date.value + cells.event.value\", \r\n",
      "    \"engineConfig\": {\r\n",
      "      \"facets\": [], \r\n",
      "      \"mode\": \"row-based\"\r\n",
      "    }, \r\n",
      "    \"newColumnName\": \"news\", \r\n",
      "    \"columnInsertIndex\": 8, \r\n",
      "    \"baseColumnName\": \"event\", \r\n",
      "    \"expression\": \"cells.date.value + cells.event.value\", \r\n",
      "    \"onError\": \"set-to-blank\"\r\n",
      "  }, \r\n",
      "  {\r\n",
      "    \"op\": \"core/column-move\", \r\n",
      "    \"description\": \"Move column date to position 10\", \r\n",
      "    \"columnName\": \"date\", \r\n",
      "    \"index\": 10\r\n",
      "  }, \r\n",
      "  {\r\n",
      "    \"op\": \"core/column-rename\", \r\n",
      "    \"description\": \"Rename column location to position\", \r\n",
      "    \"oldColumnName\": \"location\", \r\n",
      "    \"newColumnName\": \"position\"\r\n",
      "  }, \r\n",
      "  {\r\n",
      "    \"row\": \"1\", \r\n",
      "    \"newFlagged\": \"true\", \r\n",
      "    \"oldFlagged\": \"false\", \r\n",
      "    \"op\": \"custom/flag\"\r\n",
      "  }, \r\n",
      "  {\r\n",
      "    \"row\": \"1\", \r\n",
      "    \"newStarred\": \"true\", \r\n",
      "    \"oldStarred\": \"false\", \r\n",
      "    \"op\": \"custom/star\"\r\n",
      "  }, \r\n",
      "  {\r\n",
      "    \"op\": \"core/blank-down\", \r\n",
      "    \"description\": \"Blank down cells in column event\", \r\n",
      "    \"engineConfig\": {\r\n",
      "      \"facets\": [], \r\n",
      "      \"mode\": \"row-based\"\r\n",
      "    }, \r\n",
      "    \"columnName\": \"event\"\r\n",
      "  }, \r\n",
      "  {\r\n",
      "    \"op\": \"core/fill-down\", \r\n",
      "    \"description\": \"Fill down cells in column location_type\", \r\n",
      "    \"engineConfig\": {\r\n",
      "      \"facets\": [], \r\n",
      "      \"mode\": \"row-based\"\r\n",
      "    }, \r\n",
      "    \"columnName\": \"location_type\"\r\n",
      "  }, \r\n",
      "  {\r\n",
      "    \"row\": \"1\", \r\n",
      "    \"cell\": \"3\", \r\n",
      "    \"old\": \"{\\\"v\\\":\\\"[DINNER]\\\"}\", \r\n",
      "    \"new\": \"{\\\"v\\\":\\\"Abendessen\\\"}\", \r\n",
      "    \"op\": \"custom/single-edit\"\r\n",
      "  }\r\n",
      "]"
     ]
    }
   ],
   "source": [
    "!cat or-prov-test.json"
   ]
  },
  {
   "cell_type": "markdown",
   "metadata": {},
   "source": [
    "## Show differences between Complete recipe and UI recipe"
   ]
  },
  {
   "cell_type": "code",
   "execution_count": 12,
   "metadata": {},
   "outputs": [
    {
     "name": "stdout",
     "output_type": "stream",
     "text": [
      "{delete: [11, 8, 7, 2]}\r\n"
     ]
    }
   ],
   "source": [
    "!orprov-cli compare_recipes or-prov-test.json OR-Prov-Reproducibility/test_files/Tutorial_OR_ui_ops.json"
   ]
  },
  {
   "cell_type": "markdown",
   "metadata": {},
   "source": [
    "## Create new project based on raw files"
   ]
  },
  {
   "cell_type": "markdown",
   "metadata": {},
   "source": [
    "## List OpenRefine Projects"
   ]
  },
  {
   "cell_type": "code",
   "execution_count": 15,
   "metadata": {},
   "outputs": [
    {
     "name": "stdout",
     "output_type": "stream",
     "text": [
      "id\t\tname (created_time)\r\n",
      "2403048382377\tdrugs com test (2019-05-08T17:07:05Z)\r\n",
      "2274047076275\tTutorial_OR (2019-05-08T17:29:58Z)\r\n"
     ]
    }
   ],
   "source": [
    "!orprov-cli list"
   ]
  },
  {
   "cell_type": "markdown",
   "metadata": {},
   "source": [
    "## Run Complete Recipe on the OpenRefine Project"
   ]
  },
  {
   "cell_type": "code",
   "execution_count": 16,
   "metadata": {},
   "outputs": [
    {
     "name": "stdout",
     "output_type": "stream",
     "text": [
      "recipe or-prov-test.json executed on project: Tutorial_OR\r\n"
     ]
    }
   ],
   "source": [
    "!orprov-cli run -i or-prov-test.json -pname Tutorial_OR"
   ]
  },
  {
   "cell_type": "markdown",
   "metadata": {},
   "source": [
    "## Extract cleaned csv files"
   ]
  },
  {
   "cell_type": "code",
   "execution_count": 17,
   "metadata": {},
   "outputs": [
    {
     "name": "stdout",
     "output_type": "stream",
     "text": [
      "usage: orcli.py <command> [<args>]\r\n",
      "\r\n",
      "        orcli commands are:        \r\n",
      "           extract          Extract enhanced recipe from OpenRefine project file\r\n",
      "           list             List Projects from the openrefine server\r\n",
      "           run              Run openrefine extracted history on the OpenRefine server\r\n",
      "           compare          Compare two OpenRefine files output\r\n",
      "           compare_recipes  Compare two OpenRefine extracted history           \r\n",
      "        \r\n",
      "orprov-cli: error: too few arguments\r\n"
     ]
    }
   ],
   "source": [
    "!orprov-cli"
   ]
  },
  {
   "cell_type": "code",
   "execution_count": null,
   "metadata": {},
   "outputs": [],
   "source": []
  }
 ],
 "metadata": {
  "anaconda-cloud": {},
  "kernelspec": {
   "display_name": "Python 2",
   "language": "python",
   "name": "python2"
  },
  "language_info": {
   "codemirror_mode": {
    "name": "ipython",
    "version": 2
   },
   "file_extension": ".py",
   "mimetype": "text/x-python",
   "name": "python",
   "nbconvert_exporter": "python",
   "pygments_lexer": "ipython2",
   "version": "2.7.15"
  }
 },
 "nbformat": 4,
 "nbformat_minor": 2
}
